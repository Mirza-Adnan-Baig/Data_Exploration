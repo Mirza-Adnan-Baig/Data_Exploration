{
 "cells": [
  {
   "metadata": {
    "ExecuteTime": {
     "end_time": "2024-11-19T08:22:35.909648Z",
     "start_time": "2024-11-19T08:22:35.880488Z"
    }
   },
   "cell_type": "code",
   "source": [
    "import pandas as pd\n",
    "\n",
    "# Read the CSV file into a DataFrame\n",
    "df = pd.read_csv('archive/Age_Group_Gender_Distribution.csv')\n",
    "\n",
    "# Access data in the DataFrame using column names or indexing\n",
    "print(df)\n",
    "print(df.iloc[0])  # Access first row"
   ],
   "id": "d957dd559b76d78e",
   "outputs": [
    {
     "name": "stdout",
     "output_type": "stream",
     "text": [
      "    Unnamed: 0   Age Group         Male       Female        Total  Sex ratio  \\\n",
      "0          NaN       Total  123,824,681  116,613,077  240,458,089     106.12   \n",
      "1          0.0       0 – 4     18744989     17726432     36471421      105.1   \n",
      "2          1.0       5 – 9     16566852     15705284     32272136      108.8   \n",
      "3          2.0     10 – 14     14971914     13817137     28790182      111.8   \n",
      "4          3.0     15 – 19     12581753     11569893     24154118      108.0   \n",
      "5          4.0     20 – 24     10323755     10141864     20468713      100.0   \n",
      "6          5.0     25 – 29      8946770      9016962     17967161       98.8   \n",
      "7          6.0     30 – 34      7730953      8026004     15759670       96.4   \n",
      "8          7.0     35 – 39      7313967      7047727     14364278      102.2   \n",
      "9          8.0     40 – 44      6471820      6063242     12536758      101.5   \n",
      "10         9.0     45 – 49      5095175      4624839      9721110      104.9   \n",
      "11        10.0     50 – 54      4219234      3827003      8047113      110.4   \n",
      "12        11.0     55 – 59      3455455      2933026      6388995      113.8   \n",
      "13        12.0     60 – 64      2247341      2063695      4311861      108.9   \n",
      "14        13.0     65 – 69      1557733      1393718      2952013      111.8   \n",
      "15        14.0     70 – 74      1131916      1001805      2134220      113.0   \n",
      "16        15.0  75 or more      1338251      1287621      2626523      103.9   \n",
      "17        16.0   Age Group         Male       Female        Total  Sex ratio   \n",
      "18        17.0      0 – 14     43533720     40182776   83 716 496      108.3   \n",
      "19        18.0     15 – 64     58778374     57478712    116257086      102.3   \n",
      "20        19.0         65+      4027900      3683144      7711044      109.4   \n",
      "\n",
      "    Percent  \n",
      "0    100.0%  \n",
      "1     14.0%  \n",
      "2     14.5%  \n",
      "3     11.8%  \n",
      "4     10.3%  \n",
      "5      8.9%  \n",
      "6      7.9%  \n",
      "7      6.8%  \n",
      "8      5.8%  \n",
      "9      4.6%  \n",
      "10     3.8%  \n",
      "11     3.3%  \n",
      "12     2.4%  \n",
      "13     2.1%  \n",
      "14     1.4%  \n",
      "15     1.0%  \n",
      "16    1.26%  \n",
      "17  Percent  \n",
      "18    40.3%  \n",
      "19    56.0%  \n",
      "20     3.7%  \n",
      "Unnamed: 0            NaN\n",
      "Age Group           Total\n",
      "Male          123,824,681\n",
      "Female        116,613,077\n",
      "Total         240,458,089\n",
      "Sex ratio          106.12\n",
      "Percent            100.0%\n",
      "Name: 0, dtype: object\n"
     ]
    }
   ],
   "execution_count": 4
  },
  {
   "metadata": {
    "ExecuteTime": {
     "end_time": "2024-11-19T10:24:52.844783Z",
     "start_time": "2024-11-19T10:24:52.817615Z"
    }
   },
   "cell_type": "code",
   "source": [
    "import pandas as pd\n",
    "\n",
    "# Read the CSV file into a DataFrame\n",
    "df1 = pd.read_csv('archive/City_Population_Growth_Trends.csv')\n",
    "\n",
    "# Access data in the DataFrame using column names or indexing\n",
    "print(df1)\n",
    "print(df1.iloc[0])  # Access first row"
   ],
   "id": "dfd851cc4b340634",
   "outputs": [
    {
     "name": "stdout",
     "output_type": "stream",
     "text": [
      "    Unnamed: 0       City Name Province or Territory  2023 Population[15]  \\\n",
      "0            0         Karachi                 Sindh             18868021   \n",
      "1            1          Lahore                Punjab             13004135   \n",
      "2            2      Faisalabad                Punjab              3691999   \n",
      "3            3      Rawalpindi                Punjab              3357612   \n",
      "4            4      Gujranwala                Punjab              2668047   \n",
      "5            5          Multan                Punjab              2215381   \n",
      "6            6       Hyderabad                 Sindh              1921275   \n",
      "7            7        Peshawar                   KPK              1905975   \n",
      "8            8          Quetta           Balochistan              1565546   \n",
      "9            9       Islamabad                   ICT              1108872   \n",
      "10          10        Sargodha                Punjab               975886   \n",
      "11          11         Sialkot                Punjab               911817   \n",
      "12          12      Bahawalpur                Punjab               903795   \n",
      "13          13           Jhang                Punjab               606533   \n",
      "14          14     Sheikhupura                Punjab               591424   \n",
      "15          15          Gujrat                Punjab               574240   \n",
      "16          16          Sukkur                 Sindh               563851   \n",
      "17          17         Larkana                 Sindh               551716   \n",
      "18          18         Sahiwal                Punjab               538344   \n",
      "19          19           Okara                Punjab               533693   \n",
      "20          20  Rahim Yar Khan                Punjab               519261   \n",
      "21          21           Kasur                Punjab               510875   \n",
      "\n",
      "   Avg. Annual Growth Rate (2017-2023)  2017 Population[16]  \\\n",
      "0                                4.05%             14884402   \n",
      "1                                2.65%             11119985   \n",
      "2                                2.37%              3210158   \n",
      "3                                8.18%              2097824   \n",
      "4                                3.55%              2028421   \n",
      "5                                2.85%              1872641   \n",
      "6                                1.53%              1733622   \n",
      "7                               -0.55%              1969823   \n",
      "8                                7.79%               999385   \n",
      "9                                1.59%              1009003   \n",
      "10                               6.81%               658208   \n",
      "11                               5.64%               656730   \n",
      "12                               2.88%               762774   \n",
      "13                               6.58%               414309   \n",
      "14                               3.80%               472269   \n",
      "15                               6.65%               390758   \n",
      "16                               2.02%               500401   \n",
      "17                               2.07%               488006   \n",
      "18                               5,59%               388795   \n",
      "19                               6.90%               358146   \n",
      "20                               3.57%               420963   \n",
      "21                               6.11%               358296   \n",
      "\n",
      "   Avg. Annual Growth Rate (1998-2017)  1998 Population[11]  \n",
      "0                                2.48%            9339023.0  \n",
      "1                                4.06%            5209088.0  \n",
      "2                                2.49%            2008861.0  \n",
      "3                                2.11%            1409768.0  \n",
      "4                                3.11%            1132509.0  \n",
      "5                                2.38%            1197384.0  \n",
      "6                                2.10%            1166894.0  \n",
      "7                                3.72%             982816.0  \n",
      "8                                3.04%             565137.0  \n",
      "9                                3.45%             529180.0  \n",
      "10                               1.92%             458440.0  \n",
      "11                               2.36%             421502.0  \n",
      "12                               3.34%             408395.0  \n",
      "13                               1.83%             293366.0  \n",
      "14                               2.79%             280263.0  \n",
      "15                               2.34%             251792.0  \n",
      "16                               2.12%             335551.0  \n",
      "17                               3.15%             270283.0  \n",
      "18                                 NaN                  NaN  \n",
      "19                                 NaN                  NaN  \n",
      "20                               3.14%             233537.0  \n",
      "21                                 NaN                  NaN  \n",
      "Unnamed: 0                                     0\n",
      "City Name                                Karachi\n",
      "Province or Territory                      Sindh\n",
      "2023 Population[15]                     18868021\n",
      "Avg. Annual Growth Rate (2017-2023)        4.05%\n",
      "2017 Population[16]                     14884402\n",
      "Avg. Annual Growth Rate (1998-2017)        2.48%\n",
      "1998 Population[11]                    9339023.0\n",
      "Name: 0, dtype: object\n"
     ]
    }
   ],
   "execution_count": 3
  },
  {
   "metadata": {
    "ExecuteTime": {
     "end_time": "2024-11-19T10:32:16.993284Z",
     "start_time": "2024-11-19T10:32:16.754843Z"
    }
   },
   "cell_type": "code",
   "source": [
    "import pandas as pd\n",
    "import matplotlib.pyplot as plt\n",
    "\n",
    "# reading the database\n",
    "data = pd.read_csv(\"archive/City_Population_Growth_Trends.csv\")\n",
    "\n",
    "# histogram of total_bills\n",
    "plt.hist(data['2023 Population[15]'])\n",
    "plt.hist(data['2017 Population[16]'])\n",
    "plt.hist(data['1998 Population[11]'])\n",
    "\n",
    "plt.title(\"Histogram\")\n",
    "\n",
    "# Adding the legends\n",
    "plt.show()"
   ],
   "id": "a3c1f601dc24a9ec",
   "outputs": [
    {
     "data": {
      "text/plain": [
       "<Figure size 640x480 with 1 Axes>"
      ],
      "image/png": "[encoded data removed]"
     },
     "metadata": {},
     "output_type": "display_data"
    }
   ],
   "execution_count": 14
  },
  {
   "metadata": {
    "ExecuteTime": {
     "end_time": "2024-11-19T10:48:29.344774Z",
     "start_time": "2024-11-19T10:48:29.118677Z"
    }
   },
   "cell_type": "code",
   "source": [
    "import pandas as pd\n",
    "import matplotlib.pyplot as plt\n",
    "\n",
    "\n",
    "# reading the database\n",
    "data = pd.read_csv(\"archive/Population_Age_Distribution.csv\")\n",
    "\n",
    "# Bar chart with day against tip\n",
    "plt.bar(data['Year'], data['Population'])\n",
    "\n",
    "plt.title(\"Bar Chart\")\n",
    "\n",
    "# Setting the X and Y labels\n",
    "plt.xlabel('Year')\n",
    "plt.ylabel('Population')\n",
    "\n",
    "# Adding the legends\n",
    "plt.show()"
   ],
   "id": "56032189efbf6fd",
   "outputs": [
    {
     "data": {
      "text/plain": [
       "<Figure size 640x480 with 1 Axes>"
      ],
      "image/png": "[encoded data removed]"
     },
     "metadata": {},
     "output_type": "display_data"
    }
   ],
   "execution_count": 26
  },
  {
   "metadata": {
    "ExecuteTime": {
     "end_time": "2024-11-19T10:51:50.871414Z",
     "start_time": "2024-11-19T10:51:50.682050Z"
    }
   },
   "cell_type": "code",
   "source": [
    "import pandas as pd\n",
    "import matplotlib.pyplot as plt\n",
    "\n",
    "\n",
    "# reading the database\n",
    "data2 = pd.read_csv(\"archive/Religion_Population_Distribution.csv\")\n",
    "\n",
    "# Bar chart with day against tip\n",
    "plt.bar(data['Religion'], data['Population'])\n",
    "\n",
    "plt.title(\"Bar Chart\")\n",
    "\n",
    "# Setting the X and Y labels\n",
    "plt.xlabel('Year')\n",
    "plt.ylabel('Population')\n",
    "\n",
    "# Adding the legends\n",
    "plt.show()"
   ],
   "id": "e2b907c3357e6d1a",
   "outputs": [
    {
     "data": {
      "text/plain": [
       "<Figure size 640x480 with 1 Axes>"
      ],
      "image/png": "[encoded data removed]"
     },
     "metadata": {},
     "output_type": "display_data"
    }
   ],
   "execution_count": 29
  },
  {
   "metadata": {},
   "cell_type": "code",
   "outputs": [],
   "execution_count": null,
   "source": "",
   "id": "aa1805d898b4d9b6"
  }
 ],
 "metadata": {
  "kernelspec": {
   "display_name": "Python 3",
   "language": "python",
   "name": "python3"
  },
  "language_info": {
   "codemirror_mode": {
    "name": "ipython",
    "version": 2
   },
   "file_extension": ".py",
   "mimetype": "text/x-python",
   "name": "python",
   "nbconvert_exporter": "python",
   "pygments_lexer": "ipython2",
   "version": "2.7.6"
  }
 },
 "nbformat": 4,
 "nbformat_minor": 5
}
