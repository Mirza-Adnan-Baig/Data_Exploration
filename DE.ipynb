{
 "cells": [
  {
   "cell_type": "code",
   "execution_count": null,
   "id": "initial_id",
   "metadata": {
    "collapsed": true
   },
   "outputs": [],
   "source": [
    "import pandas as pd\n",
    "import numpy as np\n",
    "import matplotlib.pyplot as plt\n",
    "import seaborn as sns\n",
    "import warnings\n",
    "\n",
    "# Suppress warnings\n",
    "warnings.filterwarnings('ignore')\n",
    "\n",
    "# Load datasets\n",
    "religion_population_df = pd.read_csv('Religion_Population_Distribution.csv')\n",
    "yearly_demographic_df = pd.read_csv('Yearly_Demographic_Statistics.csv')\n",
    "province_population_trends_df = pd.read_csv('Province_Territory_Population_Trends.csv')\n",
    "age_group_gender_distribution_df = pd.read_csv('Age_Group_Gender_Distribution.csv')\n",
    "population_age_distribution_df = pd.read_csv('Population_Age_Distribution.csv')\n",
    "district_fertility_population_survey_df = pd.read_csv('District_Fertility_Population_Survey.csv')\n",
    "city_population_growth_trends_df = pd.read_csv('City_Population_Growth_Trends.csv')"
   ]
  }
 ],
 "metadata": {
  "kernelspec": {
   "display_name": "Python 3",
   "language": "python",
   "name": "python3"
  },
  "language_info": {
   "codemirror_mode": {
    "name": "ipython",
    "version": 2
   },
   "file_extension": ".py",
   "mimetype": "text/x-python",
   "name": "python",
   "nbconvert_exporter": "python",
   "pygments_lexer": "ipython2",
   "version": "2.7.6"
  }
 },
 "nbformat": 4,
 "nbformat_minor": 5
}
